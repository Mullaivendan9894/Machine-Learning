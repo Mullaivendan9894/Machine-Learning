{
 "cells": [
  {
   "cell_type": "markdown",
   "metadata": {},
   "source": [
    "# **Netflix Movie Recommendation System**"
   ]
  },
  {
   "cell_type": "markdown",
   "metadata": {},
   "source": [
    "**Objective:** \n",
    "* The objective of this project is to develop a recommendation system for Netflix users based on historical ratings data. By utilizing both collaborative filtering techniques (SVD) and content-based filtering (Pearson Correlation), the system aims to predict movie ratings and recommend movies that are most likely to match users' preferences. The system will also provide personalized suggestions, improving user experience and engagement on the platform.\n",
    "\n",
    "**Problem Description:** \n",
    "* Netflix, like many content platforms, faces the challenge of delivering personalized content recommendations to its vast user base. With millions of movies and shows available, users often struggle to discover new content that aligns with their tastes. The dataset used in this project contains historical movie ratings from users, and the goal is to predict which movies a user might like based on their past interactions and the ratings of other users with similar tastes. A robust recommendation system will help Netflix increase user satisfaction and retention by offering relevant suggestions.\n",
    "\n",
    "**Scope of the Solution:** \n",
    "* This solution will focus on implementing two key recommendation techniques:\n",
    "\n",
    "    * Collaborative Filtering using Singular Value Decomposition (SVD): This technique will leverage historical ratings data to predict ratings for unrated movies and suggest items to users based on their preferences and the preferences of similar users.\n",
    "    * Content-Based Filtering using Pearson Correlation: This approach will recommend similar movies based on the correlation of user ratings, allowing the system to suggest movies that are similar to the ones the user has rated highly.\n",
    "The solution will include data preprocessing steps such as cleaning, removing low-rated movies, and handling missing values. The final model will predict ratings for a given user and recommend a list of top 10 movies based on similarity.\n",
    "\n",
    "**Expected Outcome:** \n",
    "* The expected outcome of this project is a fully functional recommendation system capable of providing personalized movie suggestions to Netflix users. The system should:\n",
    "\n",
    "    * Predict ratings for movies that users have not rated yet.\n",
    "    * Recommend movies that are similar to a user's preferences.\n",
    "    * Demonstrate improved user engagement by offering highly relevant movie suggestions.\n",
    "    * Evaluate the model's performance using cross-validation and metrics such as RMSE and MAE to ensure accuracy and reliability in the recommendations."
   ]
  },
  {
   "cell_type": "markdown",
   "metadata": {},
   "source": [
    "### 1. Import Libraries"
   ]
  },
  {
   "cell_type": "code",
   "execution_count": 72,
   "metadata": {},
   "outputs": [],
   "source": [
    "import os\n",
    "import pandas as pd\n",
    "import numpy as np\n",
    "import matplotlib.pyplot as plt\n",
    "import seaborn as sns\n",
    "from scipy.stats import pearsonr\n",
    "from scipy.sparse import csr_matrix\n",
    "from surprise import Dataset, Reader, SVD\n",
    "from surprise.model_selection import cross_validate\n"
   ]
  },
  {
   "cell_type": "markdown",
   "metadata": {},
   "source": [
    "### 2. Load the Dataset (Data Viewing)"
   ]
  },
  {
   "cell_type": "code",
   "execution_count": 73,
   "metadata": {},
   "outputs": [
    {
     "name": "stdout",
     "output_type": "stream",
     "text": [
      "The dataset contains 24058263 rows and 2 columns\n"
     ]
    },
    {
     "data": {
      "text/html": [
       "<div>\n",
       "<style scoped>\n",
       "    .dataframe tbody tr th:only-of-type {\n",
       "        vertical-align: middle;\n",
       "    }\n",
       "\n",
       "    .dataframe tbody tr th {\n",
       "        vertical-align: top;\n",
       "    }\n",
       "\n",
       "    .dataframe thead th {\n",
       "        text-align: right;\n",
       "    }\n",
       "</style>\n",
       "<table border=\"1\" class=\"dataframe\">\n",
       "  <thead>\n",
       "    <tr style=\"text-align: right;\">\n",
       "      <th></th>\n",
       "      <th>Cust_ID</th>\n",
       "      <th>Rating</th>\n",
       "    </tr>\n",
       "  </thead>\n",
       "  <tbody>\n",
       "    <tr>\n",
       "      <th>0</th>\n",
       "      <td>1:</td>\n",
       "      <td>NaN</td>\n",
       "    </tr>\n",
       "    <tr>\n",
       "      <th>1</th>\n",
       "      <td>1488844</td>\n",
       "      <td>3.0</td>\n",
       "    </tr>\n",
       "    <tr>\n",
       "      <th>2</th>\n",
       "      <td>822109</td>\n",
       "      <td>5.0</td>\n",
       "    </tr>\n",
       "    <tr>\n",
       "      <th>3</th>\n",
       "      <td>885013</td>\n",
       "      <td>4.0</td>\n",
       "    </tr>\n",
       "    <tr>\n",
       "      <th>4</th>\n",
       "      <td>30878</td>\n",
       "      <td>4.0</td>\n",
       "    </tr>\n",
       "  </tbody>\n",
       "</table>\n",
       "</div>"
      ],
      "text/plain": [
       "   Cust_ID  Rating\n",
       "0       1:     NaN\n",
       "1  1488844     3.0\n",
       "2   822109     5.0\n",
       "3   885013     4.0\n",
       "4    30878     4.0"
      ]
     },
     "execution_count": 73,
     "metadata": {},
     "output_type": "execute_result"
    }
   ],
   "source": [
    "# List files in the current directory\n",
    "os.listdir()\n",
    "\n",
    "# Load the dataset\n",
    "netflix_dataset = pd.read_csv(\n",
    "    'combined_data_1.txt',\n",
    "    header=None,\n",
    "    names=[\"Cust_ID\", \"Rating\"],\n",
    "    usecols=[0, 1]\n",
    ")\n",
    "\n",
    "# Display dataset size and a preview\n",
    "print(f\"The dataset contains {netflix_dataset.shape[0]} rows and {netflix_dataset.shape[1]} columns\")\n",
    "netflix_dataset.head()\n"
   ]
  },
  {
   "cell_type": "markdown",
   "metadata": {},
   "source": [
    "### 3. Inspect the Dataset"
   ]
  },
  {
   "cell_type": "code",
   "execution_count": 74,
   "metadata": {},
   "outputs": [
    {
     "name": "stdout",
     "output_type": "stream",
     "text": [
      "<class 'pandas.core.frame.DataFrame'>\n",
      "RangeIndex: 24058263 entries, 0 to 24058262\n",
      "Data columns (total 2 columns):\n",
      " #   Column   Dtype  \n",
      "---  ------   -----  \n",
      " 0   Cust_ID  object \n",
      " 1   Rating   float64\n",
      "dtypes: float64(1), object(1)\n",
      "memory usage: 367.1+ MB\n",
      "\n"
     ]
    }
   ],
   "source": [
    "## Checking the data types\n",
    "netflix_dataset.info()\n",
    "print()"
   ]
  },
  {
   "cell_type": "markdown",
   "metadata": {},
   "source": [
    "### 4. Data viewing"
   ]
  },
  {
   "cell_type": "code",
   "execution_count": 75,
   "metadata": {},
   "outputs": [
    {
     "data": {
      "text/html": [
       "<div>\n",
       "<style scoped>\n",
       "    .dataframe tbody tr th:only-of-type {\n",
       "        vertical-align: middle;\n",
       "    }\n",
       "\n",
       "    .dataframe tbody tr th {\n",
       "        vertical-align: top;\n",
       "    }\n",
       "\n",
       "    .dataframe thead th {\n",
       "        text-align: right;\n",
       "    }\n",
       "</style>\n",
       "<table border=\"1\" class=\"dataframe\">\n",
       "  <thead>\n",
       "    <tr style=\"text-align: right;\">\n",
       "      <th></th>\n",
       "      <th>count</th>\n",
       "    </tr>\n",
       "    <tr>\n",
       "      <th>Rating</th>\n",
       "      <th></th>\n",
       "    </tr>\n",
       "  </thead>\n",
       "  <tbody>\n",
       "    <tr>\n",
       "      <th>1.0</th>\n",
       "      <td>1118186</td>\n",
       "    </tr>\n",
       "    <tr>\n",
       "      <th>2.0</th>\n",
       "      <td>2439073</td>\n",
       "    </tr>\n",
       "    <tr>\n",
       "      <th>3.0</th>\n",
       "      <td>6904181</td>\n",
       "    </tr>\n",
       "    <tr>\n",
       "      <th>4.0</th>\n",
       "      <td>8085741</td>\n",
       "    </tr>\n",
       "    <tr>\n",
       "      <th>5.0</th>\n",
       "      <td>5506583</td>\n",
       "    </tr>\n",
       "  </tbody>\n",
       "</table>\n",
       "</div>"
      ],
      "text/plain": [
       "          count\n",
       "Rating         \n",
       "1.0     1118186\n",
       "2.0     2439073\n",
       "3.0     6904181\n",
       "4.0     8085741\n",
       "5.0     5506583"
      ]
     },
     "execution_count": 75,
     "metadata": {},
     "output_type": "execute_result"
    }
   ],
   "source": [
    "## Group Ratings Count\n",
    "rating = netflix_dataset.groupby(\"Rating\")[\"Rating\"].agg([\"count\"])\n",
    "rating"
   ]
  },
  {
   "cell_type": "code",
   "execution_count": 76,
   "metadata": {},
   "outputs": [
    {
     "data": {
      "image/png": "[encoded data removed]",
      "text/plain": [
       "<Figure size 1200x600 with 1 Axes>"
      ]
     },
     "metadata": {},
     "output_type": "display_data"
    }
   ],
   "source": [
    "# 4. Data Viewing\n",
    "\n",
    "# Step 1: Grouping Ratings by Count\n",
    "# Group the data by the 'Rating' column and count the number of occurrences for each rating.\n",
    "rating = netflix_dataset.groupby(\"Rating\")[\"Rating\"].agg([\"count\"])\n",
    "\n",
    "# Step 2: Calculate the Total Number of Movies\n",
    "# The number of movies is the count of NaN values in the 'Rating' column.\n",
    "movie_count = netflix_dataset[\"Rating\"].isna().sum()\n",
    "\n",
    "# Step 3: Calculate the Total Number of Customers\n",
    "# The total number of unique customers, excluding rows where 'Rating' is NaN.\n",
    "Total_customers = netflix_dataset[\"Cust_ID\"].nunique() - movie_count\n",
    "\n",
    "# Step 4: Calculate the Total Number of Ratings\n",
    "# The total number of ratings is the count of 'Cust_ID' entries, excluding the NaN values.\n",
    "total_rating = netflix_dataset[\"Cust_ID\"].count() - movie_count\n",
    "\n",
    "# Step 5: Visualize the Rating Data\n",
    "# Plot the number of ratings as a bar chart.\n",
    "rating.plot(kind=\"bar\", figsize=(12, 6), color=\"skyblue\", legend=False)\n",
    "\n",
    "# Step 6: Add Title and Grid to the Plot\n",
    "# Add a title showing the total number of movies, customers, and ratings.\n",
    "plt.title(f\"{movie_count} movies, {Total_customers} customers, {total_rating} total reviews\")\n",
    "\n",
    "# Add a grid for better readability.\n",
    "plt.grid(axis='both', alpha=0.3)\n",
    "\n",
    "# Step 7: Annotate the Bars with the Counts\n",
    "# Add the exact count of each rating on top of the corresponding bar.\n",
    "for index, value in enumerate(rating[\"count\"]):\n",
    "    plt.text(index, value, f\"{value:,}\", ha=\"center\", va=\"bottom\")\n",
    "\n",
    "# Step 8: Rotate X-axis Labels\n",
    "# Ensure the rating labels on the x-axis are horizontal for readability.\n",
    "plt.xticks(rotation=0)\n",
    "\n",
    "# Step 9: Display the Plot\n",
    "plt.show()\n"
   ]
  },
  {
   "cell_type": "markdown",
   "metadata": {},
   "source": [
    "> Highest Reviews at 4-star: \n",
    "* The bar for the 4-star rating has the highest number of reviews, with over 8 million reviews. This suggests that a large portion of the movies in the dataset have been well-received by customers, earning high ratings.\n",
    "> Substantial 5-star Reviews: \n",
    "* The 5-star rating bar shows the second-highest number of reviews, with over 5.5 million. This indicates that a significant number of movies have received excellent customer feedback.\n",
    "> Fewer Low-rated Movies: \n",
    "* The 1-star and 2-star rating bars have the lowest number of reviews, around 1.1 million and 2.4 million, respectively. This implies that the dataset contains fewer movies that have been poorly rated by customers.\n",
    "> Large Customer Base: \n",
    "* With 475,257 customers providing a total of 24,053,764 reviews, this dataset represents a substantial user base engaging with the movies.\n",
    "> Diverse Rating Distribution: \n",
    "* The chart shows a varied distribution of reviews across the different rating levels, suggesting that the dataset contains a mix of movies with different levels of customer satisfaction."
   ]
  },
  {
   "cell_type": "markdown",
   "metadata": {},
   "source": [
    "### 5. Data Cleaning"
   ]
  },
  {
   "cell_type": "markdown",
   "metadata": {},
   "source": [
    "#### 5.1 Removing Null values, and adding seperate movie ID columns\n",
    "\n",
    "* **Purpose:** The dataset combines both movie IDs and customer ratings in the same 'Cust_ID' column. This step extracts movie IDs and ensures each row has a clear association with a movie.\n",
    "\n",
    "* **Why It's Needed:** Movie IDs are marked with a colon (\":\"). We need to extract these IDs separately to associate each rating with the correct movie.\n",
    "\n",
    "* **Removing Null Ratings:** Since some rows are movie identifiers (with no ratings), filtering out rows with null values in the 'Rating' column ensures that only meaningful rating data remains."
   ]
  },
  {
   "cell_type": "code",
   "execution_count": 77,
   "metadata": {},
   "outputs": [
    {
     "name": "stdout",
     "output_type": "stream",
     "text": [
      "<class 'pandas.core.frame.DataFrame'>\n",
      "Int64Index: 24053764 entries, 1 to 24058262\n",
      "Data columns (total 3 columns):\n",
      " #   Column    Dtype  \n",
      "---  ------    -----  \n",
      " 0   Cust_ID   object \n",
      " 1   Rating    float64\n",
      " 2   Movie_ID  int64  \n",
      "dtypes: float64(1), int64(1), object(1)\n",
      "memory usage: 734.1+ MB\n"
     ]
    }
   ],
   "source": [
    "# Extract movie IDs and add them to a new column\n",
    "current_movie_id = None\n",
    "movie_id = []\n",
    "\n",
    "for id in netflix_dataset[\"Cust_ID\"]:\n",
    "    if \":\" in id:\n",
    "        current_movie_id = int(id.replace(\":\", \"\"))\n",
    "    movie_id.append(current_movie_id)\n",
    "\n",
    "# Add the movie IDs to the dataset\n",
    "netflix_dataset[\"Movie_ID\"] = movie_id\n",
    "\n",
    "# Remove rows where Rating is null (movie IDs)\n",
    "netflix_dataset = netflix_dataset[netflix_dataset[\"Rating\"].notna()]\n",
    "netflix_dataset\n",
    "\n",
    "# Inspect the dataset\n",
    "netflix_dataset.info()\n"
   ]
  },
  {
   "cell_type": "code",
   "execution_count": 78,
   "metadata": {},
   "outputs": [
    {
     "data": {
      "text/plain": [
       "Cust_ID     0\n",
       "Rating      0\n",
       "Movie_ID    0\n",
       "dtype: int64"
      ]
     },
     "execution_count": 78,
     "metadata": {},
     "output_type": "execute_result"
    }
   ],
   "source": [
    "## Checking the Null values after adding the movie ID columns\n",
    "netflix_dataset.isna().sum()"
   ]
  },
  {
   "cell_type": "code",
   "execution_count": 79,
   "metadata": {},
   "outputs": [],
   "source": [
    "## Converting the object columns into interger columns\n",
    "netflix_dataset[\"Cust_ID\"] = netflix_dataset[\"Cust_ID\"].astype(int)"
   ]
  },
  {
   "cell_type": "markdown",
   "metadata": {},
   "source": [
    "#### 5.2. Removing the least rated movie \n",
    "\n",
    "* **Purpose:** Identify and remove movies that have too few ratings.\n",
    "\n",
    "* **Why It's Needed:** Movies with very few ratings might not provide enough information for accurate predictions. Removing these ensures that the model focuses on movies with sufficient feedback.\n",
    "\n",
    "* **Quantile Threshold:** The quantile(0.6) sets a threshold to drop the bottom 40% of movies based on the number of ratings. This helps in keeping only the most frequently rated movies for a better recommendation system."
   ]
  },
  {
   "cell_type": "code",
   "execution_count": 80,
   "metadata": {},
   "outputs": [],
   "source": [
    "# Calculate the number of ratings per movie\n",
    "all_movie_summary = netflix_dataset.groupby(\"Movie_ID\")[\"Rating\"].agg([\"count\"])\n",
    "\n",
    "# Set a benchmark to filter movies (60th percentile)\n",
    "movie_benchmark = round(all_movie_summary[\"count\"].quantile(0.6), 0)\n",
    "\n",
    "# Identify movies with fewer ratings than the benchmark\n",
    "drop_movie_list = all_movie_summary[all_movie_summary[\"count\"] < movie_benchmark].index\n"
   ]
  },
  {
   "cell_type": "markdown",
   "metadata": {},
   "source": [
    "#### 5.3. Removing the customers Customers with Low Rating Activity\n",
    "\n",
    "* **Purpose:** Identify and remove customers who have rated very few movies.\n",
    "\n",
    "* **Why It's Needed:** Customers with minimal rating activity do not provide enough information for accurate preference modeling. Including such customers may lead to poor model performance.\n",
    "\n",
    "* **Quantile Threshold:** The quantile(0.6) sets a threshold to drop the bottom 40% of customers based on the number of ratings they provided. This ensures that only active customers are included in the dataset.\n"
   ]
  },
  {
   "cell_type": "code",
   "execution_count": 81,
   "metadata": {},
   "outputs": [],
   "source": [
    "# Calculate the number of ratings per customer\n",
    "all_customer_Data = netflix_dataset.groupby(\"Cust_ID\")[\"Rating\"].agg([\"count\"])\n",
    "\n",
    "# Set a benchmark to filter customers (60th percentile)\n",
    "customer_benchmark = round(all_customer_Data[\"count\"].quantile(0.6), 0)\n",
    "\n",
    "# Identify customers with fewer ratings than the benchmark\n",
    "drop_customer_list = all_customer_Data[all_customer_Data[\"count\"] < customer_benchmark].index\n"
   ]
  },
  {
   "cell_type": "markdown",
   "metadata": {},
   "source": [
    "#### 5.4. Dropping the Least Rated Movies and Customers with Low Rating Activity\n",
    "\n",
    "* **Purpose:** Apply the filtering criteria to drop both the least-rated movies and inactive customers from the dataset.\n",
    "\n",
    "* **Why It's Needed:** By removing less informative data, we ensure that the dataset contains only high-quality information, making the recommendation system more reliable.\n",
    "\n",
    "* **Final Dataset Size:** After this step, a print statement shows the new size of the dataset to confirm the data reduction."
   ]
  },
  {
   "cell_type": "code",
   "execution_count": 82,
   "metadata": {},
   "outputs": [
    {
     "name": "stdout",
     "output_type": "stream",
     "text": [
      "After trimming the data, there are 19695836 rows and 3 columns\n"
     ]
    }
   ],
   "source": [
    "# Drop least rated movies and low-activity customers\n",
    "netflix_dataset = netflix_dataset[~netflix_dataset[\"Movie_ID\"].isin(drop_movie_list)]\n",
    "netflix_dataset = netflix_dataset[~netflix_dataset[\"Cust_ID\"].isin(drop_customer_list)]\n",
    "\n",
    "print(f\"After trimming the data, there are {netflix_dataset.shape[0]} rows and {netflix_dataset.shape[1]} columns\")\n"
   ]
  },
  {
   "cell_type": "markdown",
   "metadata": {},
   "source": [
    "#### Summary of Data Cleaning Process\n",
    "> Extract Movie IDs and Filter Null Ratings: \n",
    "* Ensures each row has a clear Movie_ID and removes entries with no ratings.\n",
    "> Remove Least Rated Movies: \n",
    "* Focuses on movies that have enough ratings to make reliable predictions.\n",
    "> Remove Inactive Customers: \n",
    "* Includes only customers who have rated enough movies to reflect meaningful preferences.\n",
    "> Trim the Dataset: \n",
    "* Final filtering step to keep only the most relevant data.\n",
    "\n",
    "<hr>"
   ]
  },
  {
   "cell_type": "markdown",
   "metadata": {},
   "source": [
    "### 6. Loading Movie Titles\n",
    "\n",
    "* **Purpose:** Load the movie titles dataset that contains metadata about the movies, including Movie_ID, Year, and Name.\n",
    "\n",
    "* **Why It's Needed:** The recommendation model works with Movie_ID numbers, which aren't user-friendly. Loading movie titles allows us to map Movie_ID to human-readable names and years.\n",
    "\n",
    "* **Encoding:** The ISO-8859-1 encoding ensures that special characters in movie names are properly read.\n",
    "\n",
    "* **Columns Used:** Only the relevant columns (Movie_ID, Year, Name) are loaded, keeping the dataset concise."
   ]
  },
  {
   "cell_type": "code",
   "execution_count": 83,
   "metadata": {},
   "outputs": [
    {
     "data": {
      "text/html": [
       "<div>\n",
       "<style scoped>\n",
       "    .dataframe tbody tr th:only-of-type {\n",
       "        vertical-align: middle;\n",
       "    }\n",
       "\n",
       "    .dataframe tbody tr th {\n",
       "        vertical-align: top;\n",
       "    }\n",
       "\n",
       "    .dataframe thead th {\n",
       "        text-align: right;\n",
       "    }\n",
       "</style>\n",
       "<table border=\"1\" class=\"dataframe\">\n",
       "  <thead>\n",
       "    <tr style=\"text-align: right;\">\n",
       "      <th></th>\n",
       "      <th>Movie_ID</th>\n",
       "      <th>Year</th>\n",
       "      <th>Name</th>\n",
       "    </tr>\n",
       "  </thead>\n",
       "  <tbody>\n",
       "    <tr>\n",
       "      <th>0</th>\n",
       "      <td>1</td>\n",
       "      <td>2003.0</td>\n",
       "      <td>Dinosaur Planet</td>\n",
       "    </tr>\n",
       "    <tr>\n",
       "      <th>1</th>\n",
       "      <td>2</td>\n",
       "      <td>2004.0</td>\n",
       "      <td>Isle of Man TT 2004 Review</td>\n",
       "    </tr>\n",
       "    <tr>\n",
       "      <th>2</th>\n",
       "      <td>3</td>\n",
       "      <td>1997.0</td>\n",
       "      <td>Character</td>\n",
       "    </tr>\n",
       "    <tr>\n",
       "      <th>3</th>\n",
       "      <td>4</td>\n",
       "      <td>1994.0</td>\n",
       "      <td>Paula Abdul's Get Up &amp; Dance</td>\n",
       "    </tr>\n",
       "    <tr>\n",
       "      <th>4</th>\n",
       "      <td>5</td>\n",
       "      <td>2004.0</td>\n",
       "      <td>The Rise and Fall of ECW</td>\n",
       "    </tr>\n",
       "    <tr>\n",
       "      <th>...</th>\n",
       "      <td>...</td>\n",
       "      <td>...</td>\n",
       "      <td>...</td>\n",
       "    </tr>\n",
       "    <tr>\n",
       "      <th>17765</th>\n",
       "      <td>17766</td>\n",
       "      <td>2002.0</td>\n",
       "      <td>Where the Wild Things Are and Other Maurice Se...</td>\n",
       "    </tr>\n",
       "    <tr>\n",
       "      <th>17766</th>\n",
       "      <td>17767</td>\n",
       "      <td>2004.0</td>\n",
       "      <td>Fidel Castro: American Experience</td>\n",
       "    </tr>\n",
       "    <tr>\n",
       "      <th>17767</th>\n",
       "      <td>17768</td>\n",
       "      <td>2000.0</td>\n",
       "      <td>Epoch</td>\n",
       "    </tr>\n",
       "    <tr>\n",
       "      <th>17768</th>\n",
       "      <td>17769</td>\n",
       "      <td>2003.0</td>\n",
       "      <td>The Company</td>\n",
       "    </tr>\n",
       "    <tr>\n",
       "      <th>17769</th>\n",
       "      <td>17770</td>\n",
       "      <td>2003.0</td>\n",
       "      <td>Alien Hunter</td>\n",
       "    </tr>\n",
       "  </tbody>\n",
       "</table>\n",
       "<p>17770 rows × 3 columns</p>\n",
       "</div>"
      ],
      "text/plain": [
       "       Movie_ID    Year                                               Name\n",
       "0             1  2003.0                                    Dinosaur Planet\n",
       "1             2  2004.0                         Isle of Man TT 2004 Review\n",
       "2             3  1997.0                                          Character\n",
       "3             4  1994.0                       Paula Abdul's Get Up & Dance\n",
       "4             5  2004.0                           The Rise and Fall of ECW\n",
       "...         ...     ...                                                ...\n",
       "17765     17766  2002.0  Where the Wild Things Are and Other Maurice Se...\n",
       "17766     17767  2004.0                  Fidel Castro: American Experience\n",
       "17767     17768  2000.0                                              Epoch\n",
       "17768     17769  2003.0                                        The Company\n",
       "17769     17770  2003.0                                       Alien Hunter\n",
       "\n",
       "[17770 rows x 3 columns]"
      ]
     },
     "execution_count": 83,
     "metadata": {},
     "output_type": "execute_result"
    }
   ],
   "source": [
    "df_title = pd.read_csv(\"movie_titles.csv\" , encoding = 'ISO-8859-1', header=None, usecols=[0,1,2], names=[\"Movie_ID\", \"Year\", \"Name\"])\n",
    "df_title"
   ]
  },
  {
   "cell_type": "markdown",
   "metadata": {},
   "source": [
    "### 7. Load Data for SVD\n",
    "\n",
    "* **Purpose:** Load the dataset into a format compatible with the Surprise library.\n",
    "\n",
    "* **Why It's Needed:** The Surprise library requires data in a specific format (Cust_ID, Movie_ID, Rating) for training models.\n",
    "\n",
    "* **Sample Size:** Only the first 100,000 rows are used for this initial step to test the model quickly and ensure it works correctly before using the full dataset."
   ]
  },
  {
   "cell_type": "code",
   "execution_count": 84,
   "metadata": {},
   "outputs": [],
   "source": [
    "# Prepare the dataset for Surprise library\n",
    "reader = Reader()\n",
    "data = Dataset.load_from_df(netflix_dataset[[\"Cust_ID\", \"Movie_ID\", \"Rating\"]][:100000], reader)\n"
   ]
  },
  {
   "cell_type": "markdown",
   "metadata": {},
   "source": [
    "#### 7.1. Initialize and Evaluate SVD Model\n",
    "* **Purpose:** Initialize and evaluate the SVD model using cross-validation.\n",
    "* **Why It's Needed:**\n",
    "    * **Model Selection:** SVD is a popular method for collaborative filtering.\n",
    "    * **Cross-Validation:** Performing 5-fold cross-validation helps ensure the model's performance is consistent across different subsets of the data.\n",
    "    * **Evaluation Metrics:** RMSE and MAE provide insights into how accurate the model's predictions are."
   ]
  },
  {
   "cell_type": "code",
   "execution_count": 85,
   "metadata": {},
   "outputs": [
    {
     "name": "stdout",
     "output_type": "stream",
     "text": [
      "Evaluating RMSE, MAE of algorithm SVD on 5 split(s).\n",
      "\n",
      "                  Fold 1  Fold 2  Fold 3  Fold 4  Fold 5  Mean    Std     \n",
      "RMSE (testset)    1.0194  1.0181  1.0143  1.0223  1.0168  1.0182  0.0027  \n",
      "MAE (testset)     0.8118  0.8132  0.8082  0.8218  0.8130  0.8136  0.0045  \n",
      "Fit time          1.93    1.76    1.44    1.45    1.47    1.61    0.20    \n",
      "Test time         0.36    0.16    0.16    0.46    0.16    0.26    0.13    \n"
     ]
    },
    {
     "data": {
      "text/plain": [
       "{'test_rmse': array([1.01943664, 1.01813226, 1.01429784, 1.02231481, 1.01681755]),\n",
       " 'test_mae': array([0.81184623, 0.81315431, 0.80823905, 0.82184007, 0.8130091 ]),\n",
       " 'fit_time': (1.9338271617889404,\n",
       "  1.7573046684265137,\n",
       "  1.4411475658416748,\n",
       "  1.4470922946929932,\n",
       "  1.4690358638763428),\n",
       " 'test_time': (0.3580455780029297,\n",
       "  0.16256284713745117,\n",
       "  0.16053247451782227,\n",
       "  0.46276378631591797,\n",
       "  0.1596081256866455)}"
      ]
     },
     "execution_count": 85,
     "metadata": {},
     "output_type": "execute_result"
    }
   ],
   "source": [
    "# Initialize and cross-validate the SVD model\n",
    "model_svd = SVD()\n",
    "cross_validate(model_svd, data, measures=[\"RMSE\", \"MAE\"], cv=5, verbose=True)\n"
   ]
  },
  {
   "cell_type": "markdown",
   "metadata": {},
   "source": [
    "#### 7.2 Training the model with full Dataset\n",
    "* **Purpose:** Train the SVD model on the full dataset.\n",
    "* **Why It's Needed:**\n",
    "    * **Full Dataset Training:** After verifying the model's performance with a subset, training on the full dataset ensures it learns from all available data.\n",
    "    * **Model Fitting:** The fit() method applies the SVD algorithm to the entire training set, preparing the model for making predictions."
   ]
  },
  {
   "cell_type": "code",
   "execution_count": 86,
   "metadata": {},
   "outputs": [
    {
     "data": {
      "text/plain": [
       "<surprise.prediction_algorithms.matrix_factorization.SVD at 0x218cb02d1e0>"
      ]
     },
     "execution_count": 86,
     "metadata": {},
     "output_type": "execute_result"
    }
   ],
   "source": [
    "# Train the model on the full dataset\n",
    "data = Dataset.load_from_df(netflix_dataset[[\"Cust_ID\", \"Movie_ID\", \"Rating\"]], reader)\n",
    "train_set = data.build_full_trainset()\n",
    "model_svd.fit(train_set)"
   ]
  },
  {
   "cell_type": "markdown",
   "metadata": {},
   "source": [
    "### 8. Predict Scores for a Specific Customer\n",
    "This step involves predicting ratings for a specific customer based on their preferences and the movies they have rated."
   ]
  },
  {
   "cell_type": "code",
   "execution_count": 87,
   "metadata": {},
   "outputs": [
    {
     "name": "stderr",
     "output_type": "stream",
     "text": [
      "C:\\Users\\Asus-PC\\AppData\\Local\\Temp\\ipykernel_27864\\3979077147.py:4: SettingWithCopyWarning: \n",
      "A value is trying to be set on a copy of a slice from a DataFrame.\n",
      "Try using .loc[row_indexer,col_indexer] = value instead\n",
      "\n",
      "See the caveats in the documentation: https://pandas.pydata.org/pandas-docs/stable/user_guide/indexing.html#returning-a-view-versus-a-copy\n",
      "  cust_712664[\"Predicted_rating\"] = cust_712664[\"Movie_ID\"].apply(lambda x: model_svd.predict(712664, x).est)\n"
     ]
    }
   ],
   "source": [
    "# Predict ratings for customer 712664\n",
    "cust_712664 = df_title.copy()\n",
    "cust_712664 = df_title[~df_title[\"Movie_ID\"].isin(drop_movie_list)]\n",
    "cust_712664[\"Predicted_rating\"] = cust_712664[\"Movie_ID\"].apply(lambda x: model_svd.predict(712664, x).est)\n"
   ]
  },
  {
   "cell_type": "code",
   "execution_count": 95,
   "metadata": {},
   "outputs": [
    {
     "name": "stderr",
     "output_type": "stream",
     "text": [
      "C:\\Users\\Asus-PC\\AppData\\Local\\Temp\\ipykernel_27864\\4285002130.py:1: SettingWithCopyWarning: \n",
      "A value is trying to be set on a copy of a slice from a DataFrame.\n",
      "Try using .loc[row_indexer,col_indexer] = value instead\n",
      "\n",
      "See the caveats in the documentation: https://pandas.pydata.org/pandas-docs/stable/user_guide/indexing.html#returning-a-view-versus-a-copy\n",
      "  cust_712664[\"Predicted_rating\"] = cust_712664[\"Movie_ID\"].apply(lambda x: model_svd.predict(712664, x).est)\n"
     ]
    },
    {
     "data": {
      "text/html": [
       "<div>\n",
       "<style scoped>\n",
       "    .dataframe tbody tr th:only-of-type {\n",
       "        vertical-align: middle;\n",
       "    }\n",
       "\n",
       "    .dataframe tbody tr th {\n",
       "        vertical-align: top;\n",
       "    }\n",
       "\n",
       "    .dataframe thead th {\n",
       "        text-align: right;\n",
       "    }\n",
       "</style>\n",
       "<table border=\"1\" class=\"dataframe\">\n",
       "  <thead>\n",
       "    <tr style=\"text-align: right;\">\n",
       "      <th></th>\n",
       "      <th>Movie_ID</th>\n",
       "      <th>Year</th>\n",
       "      <th>Name</th>\n",
       "      <th>Predicted_rating</th>\n",
       "    </tr>\n",
       "  </thead>\n",
       "  <tbody>\n",
       "    <tr>\n",
       "      <th>1691</th>\n",
       "      <td>1692</td>\n",
       "      <td>1989.0</td>\n",
       "      <td>Lonesome Dove</td>\n",
       "      <td>5.000000</td>\n",
       "    </tr>\n",
       "    <tr>\n",
       "      <th>1276</th>\n",
       "      <td>1277</td>\n",
       "      <td>1988.0</td>\n",
       "      <td>Red Dwarf: Series 3</td>\n",
       "      <td>5.000000</td>\n",
       "    </tr>\n",
       "    <tr>\n",
       "      <th>2194</th>\n",
       "      <td>2195</td>\n",
       "      <td>2004.0</td>\n",
       "      <td>The Looney Tunes Golden Collection: Vol. 2</td>\n",
       "      <td>5.000000</td>\n",
       "    </tr>\n",
       "    <tr>\n",
       "      <th>2404</th>\n",
       "      <td>2405</td>\n",
       "      <td>2003.0</td>\n",
       "      <td>MI-5: Vol. 2</td>\n",
       "      <td>5.000000</td>\n",
       "    </tr>\n",
       "    <tr>\n",
       "      <th>2753</th>\n",
       "      <td>2754</td>\n",
       "      <td>2002.0</td>\n",
       "      <td>The Life of Mammals</td>\n",
       "      <td>5.000000</td>\n",
       "    </tr>\n",
       "    <tr>\n",
       "      <th>...</th>\n",
       "      <td>...</td>\n",
       "      <td>...</td>\n",
       "      <td>...</td>\n",
       "      <td>...</td>\n",
       "    </tr>\n",
       "    <tr>\n",
       "      <th>1524</th>\n",
       "      <td>1525</td>\n",
       "      <td>2001.0</td>\n",
       "      <td>Monkeybone</td>\n",
       "      <td>1.293051</td>\n",
       "    </tr>\n",
       "    <tr>\n",
       "      <th>2336</th>\n",
       "      <td>2337</td>\n",
       "      <td>1997.0</td>\n",
       "      <td>Double Team</td>\n",
       "      <td>1.238583</td>\n",
       "    </tr>\n",
       "    <tr>\n",
       "      <th>361</th>\n",
       "      <td>362</td>\n",
       "      <td>2000.0</td>\n",
       "      <td>The Flintstones in Viva Rock Vegas</td>\n",
       "      <td>1.197944</td>\n",
       "    </tr>\n",
       "    <tr>\n",
       "      <th>2275</th>\n",
       "      <td>2276</td>\n",
       "      <td>1998.0</td>\n",
       "      <td>Spice World</td>\n",
       "      <td>1.181217</td>\n",
       "    </tr>\n",
       "    <tr>\n",
       "      <th>1601</th>\n",
       "      <td>1602</td>\n",
       "      <td>2000.0</td>\n",
       "      <td>Dungeons &amp; Dragons</td>\n",
       "      <td>1.065351</td>\n",
       "    </tr>\n",
       "  </tbody>\n",
       "</table>\n",
       "<p>15071 rows × 4 columns</p>\n",
       "</div>"
      ],
      "text/plain": [
       "      Movie_ID    Year                                        Name  \\\n",
       "1691      1692  1989.0                               Lonesome Dove   \n",
       "1276      1277  1988.0                         Red Dwarf: Series 3   \n",
       "2194      2195  2004.0  The Looney Tunes Golden Collection: Vol. 2   \n",
       "2404      2405  2003.0                                MI-5: Vol. 2   \n",
       "2753      2754  2002.0                         The Life of Mammals   \n",
       "...        ...     ...                                         ...   \n",
       "1524      1525  2001.0                                  Monkeybone   \n",
       "2336      2337  1997.0                                 Double Team   \n",
       "361        362  2000.0          The Flintstones in Viva Rock Vegas   \n",
       "2275      2276  1998.0                                 Spice World   \n",
       "1601      1602  2000.0                          Dungeons & Dragons   \n",
       "\n",
       "      Predicted_rating  \n",
       "1691          5.000000  \n",
       "1276          5.000000  \n",
       "2194          5.000000  \n",
       "2404          5.000000  \n",
       "2753          5.000000  \n",
       "...                ...  \n",
       "1524          1.293051  \n",
       "2336          1.238583  \n",
       "361           1.197944  \n",
       "2275          1.181217  \n",
       "1601          1.065351  \n",
       "\n",
       "[15071 rows x 4 columns]"
      ]
     },
     "execution_count": 95,
     "metadata": {},
     "output_type": "execute_result"
    }
   ],
   "source": [
    "cust_712664[\"Predicted_rating\"] = cust_712664[\"Movie_ID\"].apply(lambda x: model_svd.predict(712664, x).est)\n",
    "cust_712664.sort_values(by = \"Predicted_rating\", ascending = False)"
   ]
  },
  {
   "cell_type": "code",
   "execution_count": 98,
   "metadata": {},
   "outputs": [
    {
     "data": {
      "text/plain": [
       "['Lonesome Dove',\n",
       " 'Red Dwarf: Series 3',\n",
       " 'The Looney Tunes Golden Collection: Vol. 2',\n",
       " 'MI-5: Vol. 2',\n",
       " 'The Life of Mammals',\n",
       " 'Nausicaa of the Valley of the Wind',\n",
       " 'The Godfather',\n",
       " 'The West Wing: Season 3',\n",
       " 'Lost: Season 1',\n",
       " 'Futurama: Monster Robot Maniac Fun Collection']"
      ]
     },
     "execution_count": 98,
     "metadata": {},
     "output_type": "execute_result"
    }
   ],
   "source": [
    "cust_712664.sort_values(by = \"Predicted_rating\", ascending = False)[\"Name\"].head(10).tolist()"
   ]
  },
  {
   "cell_type": "markdown",
   "metadata": {},
   "source": [
    "### 9. Content-based filtering recommendation system using Pearson correlation\n",
    "The content-based recommendation system uses Pearson correlation to recommend movies similar to a given movie based on customer ratings."
   ]
  },
  {
   "cell_type": "code",
   "execution_count": 89,
   "metadata": {},
   "outputs": [
    {
     "data": {
      "text/html": [
       "<div>\n",
       "<style scoped>\n",
       "    .dataframe tbody tr th:only-of-type {\n",
       "        vertical-align: middle;\n",
       "    }\n",
       "\n",
       "    .dataframe tbody tr th {\n",
       "        vertical-align: top;\n",
       "    }\n",
       "\n",
       "    .dataframe thead th {\n",
       "        text-align: right;\n",
       "    }\n",
       "</style>\n",
       "<table border=\"1\" class=\"dataframe\">\n",
       "  <thead>\n",
       "    <tr style=\"text-align: right;\">\n",
       "      <th></th>\n",
       "      <th>Cust_ID</th>\n",
       "      <th>Rating</th>\n",
       "      <th>Movie_ID</th>\n",
       "    </tr>\n",
       "  </thead>\n",
       "  <tbody>\n",
       "    <tr>\n",
       "      <th>696</th>\n",
       "      <td>712664</td>\n",
       "      <td>5.0</td>\n",
       "      <td>3</td>\n",
       "    </tr>\n",
       "    <tr>\n",
       "      <th>697</th>\n",
       "      <td>1331154</td>\n",
       "      <td>4.0</td>\n",
       "      <td>3</td>\n",
       "    </tr>\n",
       "    <tr>\n",
       "      <th>698</th>\n",
       "      <td>2632461</td>\n",
       "      <td>3.0</td>\n",
       "      <td>3</td>\n",
       "    </tr>\n",
       "    <tr>\n",
       "      <th>699</th>\n",
       "      <td>44937</td>\n",
       "      <td>5.0</td>\n",
       "      <td>3</td>\n",
       "    </tr>\n",
       "    <tr>\n",
       "      <th>700</th>\n",
       "      <td>656399</td>\n",
       "      <td>4.0</td>\n",
       "      <td>3</td>\n",
       "    </tr>\n",
       "    <tr>\n",
       "      <th>...</th>\n",
       "      <td>...</td>\n",
       "      <td>...</td>\n",
       "      <td>...</td>\n",
       "    </tr>\n",
       "    <tr>\n",
       "      <th>24056842</th>\n",
       "      <td>1055714</td>\n",
       "      <td>5.0</td>\n",
       "      <td>4496</td>\n",
       "    </tr>\n",
       "    <tr>\n",
       "      <th>24056843</th>\n",
       "      <td>2643029</td>\n",
       "      <td>4.0</td>\n",
       "      <td>4496</td>\n",
       "    </tr>\n",
       "    <tr>\n",
       "      <th>24056844</th>\n",
       "      <td>267802</td>\n",
       "      <td>4.0</td>\n",
       "      <td>4496</td>\n",
       "    </tr>\n",
       "    <tr>\n",
       "      <th>24056845</th>\n",
       "      <td>1559566</td>\n",
       "      <td>3.0</td>\n",
       "      <td>4496</td>\n",
       "    </tr>\n",
       "    <tr>\n",
       "      <th>24056846</th>\n",
       "      <td>293198</td>\n",
       "      <td>3.0</td>\n",
       "      <td>4496</td>\n",
       "    </tr>\n",
       "  </tbody>\n",
       "</table>\n",
       "<p>19695836 rows × 3 columns</p>\n",
       "</div>"
      ],
      "text/plain": [
       "          Cust_ID  Rating  Movie_ID\n",
       "696        712664     5.0         3\n",
       "697       1331154     4.0         3\n",
       "698       2632461     3.0         3\n",
       "699         44937     5.0         3\n",
       "700        656399     4.0         3\n",
       "...           ...     ...       ...\n",
       "24056842  1055714     5.0      4496\n",
       "24056843  2643029     4.0      4496\n",
       "24056844   267802     4.0      4496\n",
       "24056845  1559566     3.0      4496\n",
       "24056846   293198     3.0      4496\n",
       "\n",
       "[19695836 rows x 3 columns]"
      ]
     },
     "execution_count": 89,
     "metadata": {},
     "output_type": "execute_result"
    }
   ],
   "source": [
    "# Load the cleaned Netflix dataset\n",
    "netflix_dataset"
   ]
  },
  {
   "cell_type": "code",
   "execution_count": 90,
   "metadata": {},
   "outputs": [
    {
     "data": {
      "text/html": [
       "<div>\n",
       "<style scoped>\n",
       "    .dataframe tbody tr th:only-of-type {\n",
       "        vertical-align: middle;\n",
       "    }\n",
       "\n",
       "    .dataframe tbody tr th {\n",
       "        vertical-align: top;\n",
       "    }\n",
       "\n",
       "    .dataframe thead th {\n",
       "        text-align: right;\n",
       "    }\n",
       "</style>\n",
       "<table border=\"1\" class=\"dataframe\">\n",
       "  <thead>\n",
       "    <tr style=\"text-align: right;\">\n",
       "      <th></th>\n",
       "      <th>Movie_ID</th>\n",
       "      <th>Year</th>\n",
       "      <th>Name</th>\n",
       "    </tr>\n",
       "  </thead>\n",
       "  <tbody>\n",
       "    <tr>\n",
       "      <th>0</th>\n",
       "      <td>1</td>\n",
       "      <td>2003.0</td>\n",
       "      <td>Dinosaur Planet</td>\n",
       "    </tr>\n",
       "    <tr>\n",
       "      <th>1</th>\n",
       "      <td>2</td>\n",
       "      <td>2004.0</td>\n",
       "      <td>Isle of Man TT 2004 Review</td>\n",
       "    </tr>\n",
       "    <tr>\n",
       "      <th>2</th>\n",
       "      <td>3</td>\n",
       "      <td>1997.0</td>\n",
       "      <td>Character</td>\n",
       "    </tr>\n",
       "    <tr>\n",
       "      <th>3</th>\n",
       "      <td>4</td>\n",
       "      <td>1994.0</td>\n",
       "      <td>Paula Abdul's Get Up &amp; Dance</td>\n",
       "    </tr>\n",
       "    <tr>\n",
       "      <th>4</th>\n",
       "      <td>5</td>\n",
       "      <td>2004.0</td>\n",
       "      <td>The Rise and Fall of ECW</td>\n",
       "    </tr>\n",
       "    <tr>\n",
       "      <th>...</th>\n",
       "      <td>...</td>\n",
       "      <td>...</td>\n",
       "      <td>...</td>\n",
       "    </tr>\n",
       "    <tr>\n",
       "      <th>17765</th>\n",
       "      <td>17766</td>\n",
       "      <td>2002.0</td>\n",
       "      <td>Where the Wild Things Are and Other Maurice Se...</td>\n",
       "    </tr>\n",
       "    <tr>\n",
       "      <th>17766</th>\n",
       "      <td>17767</td>\n",
       "      <td>2004.0</td>\n",
       "      <td>Fidel Castro: American Experience</td>\n",
       "    </tr>\n",
       "    <tr>\n",
       "      <th>17767</th>\n",
       "      <td>17768</td>\n",
       "      <td>2000.0</td>\n",
       "      <td>Epoch</td>\n",
       "    </tr>\n",
       "    <tr>\n",
       "      <th>17768</th>\n",
       "      <td>17769</td>\n",
       "      <td>2003.0</td>\n",
       "      <td>The Company</td>\n",
       "    </tr>\n",
       "    <tr>\n",
       "      <th>17769</th>\n",
       "      <td>17770</td>\n",
       "      <td>2003.0</td>\n",
       "      <td>Alien Hunter</td>\n",
       "    </tr>\n",
       "  </tbody>\n",
       "</table>\n",
       "<p>17770 rows × 3 columns</p>\n",
       "</div>"
      ],
      "text/plain": [
       "       Movie_ID    Year                                               Name\n",
       "0             1  2003.0                                    Dinosaur Planet\n",
       "1             2  2004.0                         Isle of Man TT 2004 Review\n",
       "2             3  1997.0                                          Character\n",
       "3             4  1994.0                       Paula Abdul's Get Up & Dance\n",
       "4             5  2004.0                           The Rise and Fall of ECW\n",
       "...         ...     ...                                                ...\n",
       "17765     17766  2002.0  Where the Wild Things Are and Other Maurice Se...\n",
       "17766     17767  2004.0                  Fidel Castro: American Experience\n",
       "17767     17768  2000.0                                              Epoch\n",
       "17768     17769  2003.0                                        The Company\n",
       "17769     17770  2003.0                                       Alien Hunter\n",
       "\n",
       "[17770 rows x 3 columns]"
      ]
     },
     "execution_count": 90,
     "metadata": {},
     "output_type": "execute_result"
    }
   ],
   "source": [
    "# Load movie titles\n",
    "df_title\n"
   ]
  },
  {
   "cell_type": "markdown",
   "metadata": {},
   "source": [
    "#### 9.1 Data Preparation:\n",
    "* The function starts by converting the Netflix dataset into a user-movie matrix using pivot_table.\n",
    "* This matrix will have customers as rows and movies as columns with the ratings as values. This step is critical as it sets up the data for calculating similarity between movies."
   ]
  },
  {
   "cell_type": "code",
   "execution_count": 91,
   "metadata": {},
   "outputs": [
    {
     "data": {
      "text/html": [
       "<div>\n",
       "<style scoped>\n",
       "    .dataframe tbody tr th:only-of-type {\n",
       "        vertical-align: middle;\n",
       "    }\n",
       "\n",
       "    .dataframe tbody tr th {\n",
       "        vertical-align: top;\n",
       "    }\n",
       "\n",
       "    .dataframe thead th {\n",
       "        text-align: right;\n",
       "    }\n",
       "</style>\n",
       "<table border=\"1\" class=\"dataframe\">\n",
       "  <thead>\n",
       "    <tr style=\"text-align: right;\">\n",
       "      <th>Movie_ID</th>\n",
       "      <th>3</th>\n",
       "      <th>5</th>\n",
       "      <th>6</th>\n",
       "      <th>8</th>\n",
       "      <th>16</th>\n",
       "      <th>17</th>\n",
       "      <th>18</th>\n",
       "      <th>24</th>\n",
       "      <th>25</th>\n",
       "      <th>26</th>\n",
       "      <th>...</th>\n",
       "      <th>4482</th>\n",
       "      <th>4483</th>\n",
       "      <th>4484</th>\n",
       "      <th>4485</th>\n",
       "      <th>4488</th>\n",
       "      <th>4489</th>\n",
       "      <th>4490</th>\n",
       "      <th>4492</th>\n",
       "      <th>4493</th>\n",
       "      <th>4496</th>\n",
       "    </tr>\n",
       "    <tr>\n",
       "      <th>Cust_ID</th>\n",
       "      <th></th>\n",
       "      <th></th>\n",
       "      <th></th>\n",
       "      <th></th>\n",
       "      <th></th>\n",
       "      <th></th>\n",
       "      <th></th>\n",
       "      <th></th>\n",
       "      <th></th>\n",
       "      <th></th>\n",
       "      <th></th>\n",
       "      <th></th>\n",
       "      <th></th>\n",
       "      <th></th>\n",
       "      <th></th>\n",
       "      <th></th>\n",
       "      <th></th>\n",
       "      <th></th>\n",
       "      <th></th>\n",
       "      <th></th>\n",
       "      <th></th>\n",
       "    </tr>\n",
       "  </thead>\n",
       "  <tbody>\n",
       "    <tr>\n",
       "      <th>6</th>\n",
       "      <td>NaN</td>\n",
       "      <td>NaN</td>\n",
       "      <td>NaN</td>\n",
       "      <td>NaN</td>\n",
       "      <td>NaN</td>\n",
       "      <td>NaN</td>\n",
       "      <td>NaN</td>\n",
       "      <td>NaN</td>\n",
       "      <td>NaN</td>\n",
       "      <td>NaN</td>\n",
       "      <td>...</td>\n",
       "      <td>NaN</td>\n",
       "      <td>NaN</td>\n",
       "      <td>NaN</td>\n",
       "      <td>NaN</td>\n",
       "      <td>NaN</td>\n",
       "      <td>NaN</td>\n",
       "      <td>NaN</td>\n",
       "      <td>NaN</td>\n",
       "      <td>NaN</td>\n",
       "      <td>NaN</td>\n",
       "    </tr>\n",
       "    <tr>\n",
       "      <th>7</th>\n",
       "      <td>NaN</td>\n",
       "      <td>NaN</td>\n",
       "      <td>NaN</td>\n",
       "      <td>5.0</td>\n",
       "      <td>NaN</td>\n",
       "      <td>NaN</td>\n",
       "      <td>NaN</td>\n",
       "      <td>NaN</td>\n",
       "      <td>NaN</td>\n",
       "      <td>NaN</td>\n",
       "      <td>...</td>\n",
       "      <td>NaN</td>\n",
       "      <td>NaN</td>\n",
       "      <td>NaN</td>\n",
       "      <td>NaN</td>\n",
       "      <td>NaN</td>\n",
       "      <td>NaN</td>\n",
       "      <td>NaN</td>\n",
       "      <td>NaN</td>\n",
       "      <td>NaN</td>\n",
       "      <td>NaN</td>\n",
       "    </tr>\n",
       "    <tr>\n",
       "      <th>10</th>\n",
       "      <td>NaN</td>\n",
       "      <td>NaN</td>\n",
       "      <td>NaN</td>\n",
       "      <td>NaN</td>\n",
       "      <td>NaN</td>\n",
       "      <td>NaN</td>\n",
       "      <td>NaN</td>\n",
       "      <td>NaN</td>\n",
       "      <td>NaN</td>\n",
       "      <td>NaN</td>\n",
       "      <td>...</td>\n",
       "      <td>NaN</td>\n",
       "      <td>NaN</td>\n",
       "      <td>NaN</td>\n",
       "      <td>NaN</td>\n",
       "      <td>NaN</td>\n",
       "      <td>NaN</td>\n",
       "      <td>NaN</td>\n",
       "      <td>NaN</td>\n",
       "      <td>NaN</td>\n",
       "      <td>NaN</td>\n",
       "    </tr>\n",
       "    <tr>\n",
       "      <th>42</th>\n",
       "      <td>NaN</td>\n",
       "      <td>NaN</td>\n",
       "      <td>NaN</td>\n",
       "      <td>NaN</td>\n",
       "      <td>NaN</td>\n",
       "      <td>NaN</td>\n",
       "      <td>NaN</td>\n",
       "      <td>NaN</td>\n",
       "      <td>NaN</td>\n",
       "      <td>NaN</td>\n",
       "      <td>...</td>\n",
       "      <td>NaN</td>\n",
       "      <td>NaN</td>\n",
       "      <td>NaN</td>\n",
       "      <td>NaN</td>\n",
       "      <td>NaN</td>\n",
       "      <td>NaN</td>\n",
       "      <td>NaN</td>\n",
       "      <td>NaN</td>\n",
       "      <td>NaN</td>\n",
       "      <td>NaN</td>\n",
       "    </tr>\n",
       "    <tr>\n",
       "      <th>59</th>\n",
       "      <td>NaN</td>\n",
       "      <td>NaN</td>\n",
       "      <td>NaN</td>\n",
       "      <td>NaN</td>\n",
       "      <td>NaN</td>\n",
       "      <td>NaN</td>\n",
       "      <td>NaN</td>\n",
       "      <td>NaN</td>\n",
       "      <td>NaN</td>\n",
       "      <td>NaN</td>\n",
       "      <td>...</td>\n",
       "      <td>NaN</td>\n",
       "      <td>NaN</td>\n",
       "      <td>NaN</td>\n",
       "      <td>NaN</td>\n",
       "      <td>NaN</td>\n",
       "      <td>NaN</td>\n",
       "      <td>NaN</td>\n",
       "      <td>NaN</td>\n",
       "      <td>NaN</td>\n",
       "      <td>NaN</td>\n",
       "    </tr>\n",
       "  </tbody>\n",
       "</table>\n",
       "<p>5 rows × 1800 columns</p>\n",
       "</div>"
      ],
      "text/plain": [
       "Movie_ID  3     5     6     8     16    17    18    24    25    26    ...  \\\n",
       "Cust_ID                                                               ...   \n",
       "6          NaN   NaN   NaN   NaN   NaN   NaN   NaN   NaN   NaN   NaN  ...   \n",
       "7          NaN   NaN   NaN   5.0   NaN   NaN   NaN   NaN   NaN   NaN  ...   \n",
       "10         NaN   NaN   NaN   NaN   NaN   NaN   NaN   NaN   NaN   NaN  ...   \n",
       "42         NaN   NaN   NaN   NaN   NaN   NaN   NaN   NaN   NaN   NaN  ...   \n",
       "59         NaN   NaN   NaN   NaN   NaN   NaN   NaN   NaN   NaN   NaN  ...   \n",
       "\n",
       "Movie_ID  4482  4483  4484  4485  4488  4489  4490  4492  4493  4496  \n",
       "Cust_ID                                                               \n",
       "6          NaN   NaN   NaN   NaN   NaN   NaN   NaN   NaN   NaN   NaN  \n",
       "7          NaN   NaN   NaN   NaN   NaN   NaN   NaN   NaN   NaN   NaN  \n",
       "10         NaN   NaN   NaN   NaN   NaN   NaN   NaN   NaN   NaN   NaN  \n",
       "42         NaN   NaN   NaN   NaN   NaN   NaN   NaN   NaN   NaN   NaN  \n",
       "59         NaN   NaN   NaN   NaN   NaN   NaN   NaN   NaN   NaN   NaN  \n",
       "\n",
       "[5 rows x 1800 columns]"
      ]
     },
     "execution_count": 91,
     "metadata": {},
     "output_type": "execute_result"
    }
   ],
   "source": [
    "user_movie_matrix = netflix_dataset.pivot_table(\n",
    "    index='Cust_ID',\n",
    "    columns='Movie_ID',\n",
    "    values='Rating'\n",
    ")\n",
    "\n",
    "user_movie_matrix.head()\n"
   ]
  },
  {
   "cell_type": "markdown",
   "metadata": {},
   "source": [
    "#### 9.2 Recommending similar movies\n",
    "* This function recommends movies based on Pearson correlation similarity. It computes the similarity between the target movie and all other movies in the user-movie matrix based on ratings.\n",
    "\n",
    "* Parameters:\n",
    "  - movie_name (str): The name of the movie for which recommendations are to be made.\n",
    "  - user_movie_matrix (pd.DataFrame): A matrix where each row represents a customer, \n",
    "      and each column represents a movie with ratings as values.\n",
    "  - df_title (pd.DataFrame): A DataFrame containing movie IDs and their corresponding movie names.\n",
    "\n",
    "* Returns:\n",
    "  - List of top 10 recommended movie names similar to the specified movie."
   ]
  },
  {
   "cell_type": "code",
   "execution_count": 92,
   "metadata": {},
   "outputs": [],
   "source": [
    "def recommend_similar_movies(movie_name, user_movie_matrix, df_title):\n",
    "    \"\"\"\n",
    "    This function recommends movies based on Pearson correlation similarity.\n",
    "    It computes the similarity between the target movie and all other movies \n",
    "    in the user-movie matrix based on ratings.\n",
    "\n",
    "    Parameters:\n",
    "    - movie_name (str): The name of the movie for which recommendations are to be made.\n",
    "    - user_movie_matrix (pd.DataFrame): A matrix where each row represents a customer, \n",
    "      and each column represents a movie with ratings as values.\n",
    "    - df_title (pd.DataFrame): A DataFrame containing movie IDs and their corresponding movie names.\n",
    "\n",
    "    Returns:\n",
    "    - List of top 10 recommended movie names similar to the specified movie.\n",
    "    \"\"\"\n",
    "\n",
    "    try:\n",
    "        # Step 1: Find the Movie ID based on the provided movie name\n",
    "        movie_id = df_title[df_title[\"Name\"].str.contains(movie_name, case=False, na=False)].iloc[0][\"Movie_ID\"]\n",
    "        \n",
    "        # Step 2: Extract ratings for the target movie\n",
    "        target_movie_rating = user_movie_matrix[movie_id]\n",
    "        \n",
    "        correlations = {}\n",
    "        \n",
    "        # Step 3: Compute Pearson correlation between the target movie and all other movies\n",
    "        for col in user_movie_matrix.columns:\n",
    "            if col != movie_id:  # Avoid comparing the movie with itself\n",
    "                correlation = target_movie_rating.corr(user_movie_matrix[col], method=\"pearson\")\n",
    "                correlations[col] = correlation\n",
    "        \n",
    "        # Step 4: Sort the movies based on similarity (Pearson correlation)\n",
    "        sorted_correlation = sorted(correlations.items(), key=lambda x: x[1], reverse=True)\n",
    "        \n",
    "        # Step 5: Select top 10 most similar movies\n",
    "        similar_movie_ids = [movie_id for movie_id, corr in sorted_correlation[:10]]\n",
    "        \n",
    "        # Step 6: Retrieve movie names for the most similar movies\n",
    "        similar_movies = df_title[df_title[\"Movie_ID\"].isin(similar_movie_ids)][\"Name\"].tolist()\n",
    "        \n",
    "    except IndexError:\n",
    "        # Error handling if the movie name is not found in the dataset\n",
    "        print(f\"Movie '{movie_name}' is not found in the database.\")\n",
    "        return []\n",
    "\n",
    "    return similar_movies\n"
   ]
  },
  {
   "cell_type": "code",
   "execution_count": 93,
   "metadata": {},
   "outputs": [
    {
     "data": {
      "text/plain": [
       "['Justice League',\n",
       " 'Roughnecks: The Starship Troopers Chronicles: The Pluto Campaign',\n",
       " 'Spider-Man vs. Doc Ock',\n",
       " 'Batman Beyond: Tech Wars / Disappearing Inque',\n",
       " 'Gargoyles: Season 1',\n",
       " 'Justice League: Justice on Trial',\n",
       " 'Silent Rage',\n",
       " 'Batman Beyond: Return of the Joker',\n",
       " 'Batman Beyond: The Movie',\n",
       " 'Batman: The Animated Series: Out of the Shadows']"
      ]
     },
     "execution_count": 93,
     "metadata": {},
     "output_type": "execute_result"
    }
   ],
   "source": [
    "movie_name = \"X-Men United\"\n",
    "recommend_similar_movies(movie_name, user_movie_matrix, df_title)"
   ]
  },
  {
   "cell_type": "markdown",
   "metadata": {},
   "source": [
    "### 10. Conclusion:\n",
    "Combining SVD and Pearson Correlation for content-based filtering leverages the strengths of both techniques, ensuring that the system can handle both sparse and dense data effectively. SVD excels in identifying latent factors and predicting ratings for unrated items, while Pearson correlation provides a simple, direct measure of item similarity based on user preferences. Together, these methods enhance the quality of recommendations by balancing both complex and straightforward relationships between movies, ensuring that users are presented with a diverse yet highly relevant set of suggestions."
   ]
  },
  {
   "cell_type": "code",
   "execution_count": null,
   "metadata": {},
   "outputs": [],
   "source": []
  },
  {
   "cell_type": "code",
   "execution_count": null,
   "metadata": {},
   "outputs": [],
   "source": []
  },
  {
   "cell_type": "code",
   "execution_count": null,
   "metadata": {},
   "outputs": [],
   "source": []
  },
  {
   "cell_type": "code",
   "execution_count": null,
   "metadata": {},
   "outputs": [],
   "source": []
  },
  {
   "cell_type": "code",
   "execution_count": null,
   "metadata": {},
   "outputs": [],
   "source": []
  },
  {
   "cell_type": "code",
   "execution_count": null,
   "metadata": {},
   "outputs": [],
   "source": []
  },
  {
   "cell_type": "code",
   "execution_count": null,
   "metadata": {},
   "outputs": [],
   "source": []
  },
  {
   "cell_type": "code",
   "execution_count": null,
   "metadata": {},
   "outputs": [],
   "source": []
  },
  {
   "cell_type": "code",
   "execution_count": null,
   "metadata": {},
   "outputs": [],
   "source": []
  }
 ],
 "metadata": {
  "kernelspec": {
   "display_name": "base",
   "language": "python",
   "name": "python3"
  },
  "language_info": {
   "codemirror_mode": {
    "name": "ipython",
    "version": 3
   },
   "file_extension": ".py",
   "mimetype": "text/x-python",
   "name": "python",
   "nbconvert_exporter": "python",
   "pygments_lexer": "ipython3",
   "version": "3.10.9"
  }
 },
 "nbformat": 4,
 "nbformat_minor": 2
}
